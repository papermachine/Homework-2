{
 "cells": [
  {
   "cell_type": "markdown",
   "metadata": {},
   "source": [
    "# Homework 2: Naive Bayes\n",
    "## Due September 19th\n",
    "\n",
    "## Legal reasoning (From Murphy, 2.2). (25 pts)\n",
    "\n",
    "Suppose a crime has been committed. Blood is found at the scene for which there is no innocent explanation. It is of a type which is present in 1% of the population.  The defendant is known to have this rare blood type.  The  prosecutor claims: “There is a 1% chance that the defendant would have the crime blood type if he were innocent. Thus there is a 99% chance that he guilty”. This is known as the prosecutor’s fallacy. What is wrong with this argument?"
   ]
  },
  {
   "cell_type": "markdown",
   "metadata": {},
   "source": [
    "Alright you low rate prosecutor, let's talk about this fallacy you just made. \n",
    "Lets assume that testing the blood on the knife is an infallable test and no false positives ever, it wont change this argument.\n",
    "- Its a true statement that 1% of the population DOES have this blood type. \n",
    "- Its true there is 1 murderer with this blood type out in the world somewhere, based on our assumed infallable test on the weapon.\n",
    "\n",
    "What you probably meant is that given my client were innocent, there would only be a 1% chance that my client would match the blood sample:\n",
    "$$P(\\mathrm{Blood Match}|\\mathrm{Innocence}) = \\frac{1}{100} $$\n",
    "\n",
    "But, what you claim __fallaciously__ is that;\n",
    "$$P(\\mathrm{Innocence}|\\mathrm{Blood Match}) = \\frac{1}{100} $$\n",
    "\n",
    "Yet, that couldn't be further from the truth. Let's call S the set of everyone with any blood type. 99% of that set S is innocent for certain. That leaves 1% of S that share my client's blood type. \n",
    "1% of S, how many people is that? We could live in a TINY town with a population of 10000. 1% of 10000 is 100 people. Let's talk about the probability of you picking the right person in this tiny town based on the statistics you brought to this trial. \n",
    "\n",
    "Prosecutor, the probability you have the right person is; $$ \\frac{1}{100} = 0.01 $$ in this tiny town.\n",
    "\n",
    "An the probability you are pursuing the wrong person is;\n",
    "$$ 1 - \\frac{1}{100} = 0.99 $$"
   ]
  },
  {
   "cell_type": "markdown",
   "metadata": {},
   "source": [
    "## Ham vs Spam (75 pts)\n",
    "One use of the naive Bayes classifier, which is still in practical use today, is as a spam filter.  Consider the corpus of text messages packaged with this homework, which are each labelled as either 'spam' or 'ham'.  In this case, naive Bayes utilizes a Bernoulli model that quantifies the probability of a given word given that the message is either spam or ham.  For example, investigating the text messages here, we find that the word *draw* shows up in spam 27 times, implying that\n",
    "$$P(X=\\mathrm{draw}|Y=\\mathrm{spam}) = \\frac{27}{25748} = \\frac{m_{draw,spam}}{m_{spam}},$$\n",
    "while in the case of ham, it shows up 5 times so\n",
    "$$P(X=\\mathrm{draw}|Y=\\mathrm{ham}) = \\frac{5}{67148} = \\frac{m_{draw,ham}}{m_{ham}}.$$\n",
    "Thus we see that the word 'draw' shows up with a much higher frequency in spam e-mails than in ham.\n",
    "\n",
    "While this is not particularly strong evidence on its own, we can create a powerful classifier by using the naive assumption in conjunction with all the words in a given message:\n",
    "$$ P(Y=\\mathrm{ham}|X=x) \\propto P(Y=\\mathrm{ham}) \\prod_{i=1}^n P(X_i=x_i|Y=\\mathrm{ham}), $$\n",
    "$$ P(Y=\\mathrm{spam}|X=x) \\propto P(Y=\\mathrm{spam}) \\prod_{i=1}^n P(X_i=x_i|Y=\\mathrm{spam}), $$\n",
    "where $x_i$ are the words in a given message. \n",
    "\n",
    "Your task is to write such a classifier.  I have taken the somewhat tedious step of parsing the data for you, yielding the variables *word_dictionary*, which contains the ham and spam counts for each word, as well as *training_labels*, which provides the spam/ham labels for each text message.  I have also parsed a set of test data: *test_messages* is a list, each entry containing another list of the words in the text message, as well as *test_labels* which contains the spam/ham label for each message."
   ]
  },
  {
   "cell_type": "code",
   "execution_count": 150,
   "metadata": {},
   "outputs": [],
   "source": [
    "import numpy as np\n",
    "\n",
    "# Maps from 'ham' or 'spam' strings to zero or one\n",
    "def mapper(s):\n",
    "    if s=='spam':\n",
    "        return 0\n",
    "    else:\n",
    "        return 1\n",
    "\n",
    "# Read in the text file\n",
    "f = open('SMSSpamCollection','r')\n",
    "lines = f.readlines()\n",
    "\n",
    "# Break out the test data\n",
    "test_lines = lines[:len(lines)//5]\n",
    "lines = lines[len(lines)//5:]\n",
    "\n",
    "# Instantiate the frequency dictionary and an array to\n",
    "# record whether the line is ham or spam\n",
    "word_dictionary = {}\n",
    "training_labels = np.zeros(len(lines),dtype=int)\n",
    "\n",
    "# Loop over all the training messages\n",
    "for i,l in enumerate(lines):\n",
    "    # Split into words\n",
    "    l = l.lower().split()\n",
    "    # Record the special first word which always ham or spam\n",
    "    if l[0]=='ham':\n",
    "        training_labels[i] = 1\n",
    "   \n",
    "    # For each word in the message, record whether the message was ham or spam\n",
    "    for w in l[1:]:\n",
    "        # If we've never seen the word before, add a new dictionary entry\n",
    "        if w not in word_dictionary:\n",
    "            word_dictionary[w] = [1,1]\n",
    "        # If spam [word][+1, 0], if ham [word][0,+1]\n",
    "        word_dictionary[w][mapper(l[0])] += 1\n",
    "        \n",
    "# Loop over the test messages\n",
    "test_labels = np.zeros(len(test_lines),dtype=int)\n",
    "test_messages = []\n",
    "for i,l in enumerate(test_lines):\n",
    "    l = l.lower().split()\n",
    "    if l[0]=='ham':\n",
    "        test_labels[i] = 1\n",
    "    test_messages.append(l)\n",
    "\n",
    "counts = np.array([v for v in word_dictionary.values()]).sum(axis=0)\n"
   ]
  },
  {
   "cell_type": "markdown",
   "metadata": {},
   "source": [
    "Below, I have provided code skeletons. Your job is to make the code skeletons into an operational naive Bayes spam detector. (you may discard these skeletons if you would prefer to code this from scratch). Note that lines where you will need to change the code are marked with a '#!'.\n",
    "\n",
    "Your first task is train the model:"
   ]
  },
  {
   "cell_type": "code",
   "execution_count": 40,
   "metadata": {},
   "outputs": [
    {
     "data": {
      "text/plain": [
       "0.868013468013468"
      ]
     },
     "execution_count": 40,
     "metadata": {},
     "output_type": "execute_result"
    }
   ],
   "source": [
    "#What is the prior P(Y=ham) ?\n",
    "\n",
    "# ham messages / total messages = P(Y=ham)\n",
    "ham_prior = sum(training_labels)/len(word_dictionary)\n",
    "# Messages which are not ham are spam; the compliment ham\n",
    "spam_prior = 1 - ham_prior\n",
    "\n",
    "ham_prior \n",
    "spam_prior\n",
    "\n",
    "def w_tot(val):\n",
    "    return val[0] + val[1]\n",
    "\n",
    "# What are the class probabilities P(X=word|Y=ham) for each word?\n",
    "\n",
    "# P(X='word' | Y=spam) = (count 'word' found in spam)/(total word uses)\n",
    "# P(X='word' | Y=ham) = (count of 'word' found in ham)/(total word uses) \n",
    "\n",
    "ham_likelihood = {}\n",
    "spam_likelihood = {}\n",
    "for key,val in word_dictionary.items():\n",
    "    ham_likelihood[key] =  val[1] / w_tot(val)\n",
    "    spam_likelihood[key] = val[0] / w_tot(val)\n",
    "    \n",
    "ham_likelihood['you']"
   ]
  },
  {
   "cell_type": "markdown",
   "metadata": {},
   "source": [
    "Your next task is to make predictions on a set of test examples which were held back from the training procedure (see *test_messages* variable).  For each of these messages, compute the ham and spam probabilities."
   ]
  },
  {
   "cell_type": "code",
   "execution_count": 128,
   "metadata": {},
   "outputs": [
    {
     "data": {
      "text/plain": [
       "1114"
      ]
     },
     "execution_count": 128,
     "metadata": {},
     "output_type": "execute_result"
    }
   ],
   "source": [
    "# Where to hold the ham and spam posteriors\n",
    "posteriors = np.zeros((len(test_lines),2))\n",
    "\n",
    "# Loop over all the messages in the test set\n",
    "for i,m in enumerate(test_messages):\n",
    "    posterior_ham = 1.0\n",
    "    posterior_spam = 1.0\n",
    "    # Prior is multiplied into the posterior once\n",
    "    posterior_ham *= ham_prior\n",
    "    posterior_spam *= spam_prior\n",
    "    \n",
    "    # Loop over all the words in each message\n",
    "    for w in m:\n",
    "        # The purpose of this try/except handler is \n",
    "        # if we find a word which is not contained in the training data\n",
    "        # we have to throw it out as it has no prior probability \n",
    "        # otherwise we have a bad probability for the new word. \n",
    "        try:\n",
    "            posterior_ham *= 1 * ham_likelihood[w]\n",
    "            posterior_spam *= 1 * spam_likelihood[w]\n",
    "        except KeyError:\n",
    "            pass\n",
    "    \n",
    "    \n",
    "    # Notice the normalization factor (denominator) \n",
    "    # to turn these into proper probabilities!\n",
    "    \n",
    "    \n",
    "    posteriors[i,0] = posterior_spam/(posterior_spam + posterior_ham)\n",
    "    posteriors[i,1] = posterior_ham/(posterior_spam + posterior_ham)\n"
   ]
  },
  {
   "cell_type": "markdown",
   "metadata": {},
   "source": [
    "Finally, make a ham/spam prediction based on your posterior probabilities.  Compare these to the labels contained in test_labels.  Report the accuracy of your classifier as percentage correct."
   ]
  },
  {
   "cell_type": "code",
   "execution_count": 149,
   "metadata": {},
   "outputs": [
    {
     "data": {
      "text/plain": [
       "0.8456014362657092"
      ]
     },
     "execution_count": 149,
     "metadata": {},
     "output_type": "execute_result"
    }
   ],
   "source": [
    "texts_correct = 0\n",
    "total_texts = len(posteriors)\n",
    "\n",
    "len(test_labels)\n",
    "\n",
    "for i,tlabel in enumerate(test_labels):\n",
    "    # tlabel = 1 if the test label was marked 'ham'\n",
    "    if (tlabel == 1) and (posteriors[i,0] < 0.5):\n",
    "        texts_correct += 1 \n",
    "\n",
    "classifier_accuracy = texts_correct / total_texts\n",
    "classifier_accuracy\n"
   ]
  }
 ],
 "metadata": {
  "kernelspec": {
   "display_name": "Python 3",
   "language": "python",
   "name": "python3"
  },
  "language_info": {
   "codemirror_mode": {
    "name": "ipython",
    "version": 3
   },
   "file_extension": ".py",
   "mimetype": "text/x-python",
   "name": "python",
   "nbconvert_exporter": "python",
   "pygments_lexer": "ipython3",
   "version": "3.7.3"
  }
 },
 "nbformat": 4,
 "nbformat_minor": 2
}
